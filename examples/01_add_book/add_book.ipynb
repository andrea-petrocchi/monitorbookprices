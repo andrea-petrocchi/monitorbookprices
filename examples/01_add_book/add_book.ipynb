{
 "cells": [
  {
   "cell_type": "markdown",
   "metadata": {},
   "source": [
    "# add_book.ipynb\n",
    "This notebook guides in the action of adding books to your database.\n",
    "\n",
    "The notebook is divided in two parts:\n",
    "1. In the first part we create a minimal database with a single book. We save it as `database.db` in the current folder.\n",
    "2. In the second part we load the database `database.db` and we add the book contained in the file `newbook.xlsx` (created using `mbp.create_excel_template`)."
   ]
  },
  {
   "cell_type": "code",
   "execution_count": 1,
   "metadata": {},
   "outputs": [],
   "source": [
    "import polars as pl\n",
    "\n",
    "import monitorbookprices as mbp"
   ]
  },
  {
   "cell_type": "markdown",
   "metadata": {},
   "source": [
    "## Create minimal database"
   ]
  },
  {
   "cell_type": "code",
   "execution_count": 2,
   "metadata": {},
   "outputs": [
    {
     "data": {
      "text/html": [
       "<div><style>\n",
       ".dataframe > thead > tr,\n",
       ".dataframe > tbody > tr {\n",
       "  text-align: right;\n",
       "  white-space: pre-wrap;\n",
       "}\n",
       "</style>\n",
       "<small>shape: (1, 13)</small><table border=\"1\" class=\"dataframe\"><thead><tr><th>isbn</th><th>author</th><th>title</th><th>year</th><th>publisher</th><th>full_price</th><th>adelphi</th><th>buecher</th><th>feltrinelli</th><th>ibs</th><th>libraccio</th><th>mondadori</th><th>osiander</th></tr><tr><td>str</td><td>str</td><td>str</td><td>str</td><td>str</td><td>f64</td><td>str</td><td>str</td><td>str</td><td>str</td><td>str</td><td>str</td><td>str</td></tr></thead><tbody><tr><td>&quot;9783866473256&quot;</td><td>&quot;Karl Marx&quot;</td><td>&quot;Das Kapital&quot;</td><td>&quot;2009&quot;</td><td>&quot;Anaconda&quot;</td><td>7.95</td><td>null</td><td>&quot;https://www.buecher.de/artikel…</td><td>null</td><td>null</td><td>null</td><td>null</td><td>&quot;https://www.osiander.de/shop/h…</td></tr></tbody></table></div>"
      ],
      "text/plain": [
       "shape: (1, 13)\n",
       "┌───────────────┬───────────┬─────────────┬──────┬───┬──────┬───────────┬───────────┬──────────────┐\n",
       "│ isbn          ┆ author    ┆ title       ┆ year ┆ … ┆ ibs  ┆ libraccio ┆ mondadori ┆ osiander     │\n",
       "│ ---           ┆ ---       ┆ ---         ┆ ---  ┆   ┆ ---  ┆ ---       ┆ ---       ┆ ---          │\n",
       "│ str           ┆ str       ┆ str         ┆ str  ┆   ┆ str  ┆ str       ┆ str       ┆ str          │\n",
       "╞═══════════════╪═══════════╪═════════════╪══════╪═══╪══════╪═══════════╪═══════════╪══════════════╡\n",
       "│ 9783866473256 ┆ Karl Marx ┆ Das Kapital ┆ 2009 ┆ … ┆ null ┆ null      ┆ null      ┆ https://www. │\n",
       "│               ┆           ┆             ┆      ┆   ┆      ┆           ┆           ┆ osiander.de/ │\n",
       "│               ┆           ┆             ┆      ┆   ┆      ┆           ┆           ┆ shop/h…      │\n",
       "└───────────────┴───────────┴─────────────┴──────┴───┴──────┴───────────┴───────────┴──────────────┘"
      ]
     },
     "execution_count": 2,
     "metadata": {},
     "output_type": "execute_result"
    }
   ],
   "source": [
    "book = mbp.new_book(\n",
    "    {\n",
    "        'isbn': '9783866473256',\n",
    "        'author': 'Karl Marx',\n",
    "        'title': 'Das Kapital',\n",
    "        'year': '2009',\n",
    "        'publisher': 'Anaconda',\n",
    "        'full_price': 7.95,\n",
    "        'buecher': 'https://www.buecher.de/artikel/buch/das-kapital/25646129/',\n",
    "        'osiander': 'https://www.osiander.de/shop/home/artikeldetails/A1006759980',\n",
    "    }\n",
    ")\n",
    "df = pl.DataFrame(book, schema_overrides=mbp.schema())\n",
    "df"
   ]
  },
  {
   "cell_type": "code",
   "execution_count": 3,
   "metadata": {},
   "outputs": [],
   "source": [
    "mbp.write_database(\n",
    "    df,  # dataframe\n",
    "    'books',  # table name\n",
    "    url='sqlite:///database.db',  # database url\n",
    "    if_table_exists='replace',  # behavior if table already exists\n",
    ")"
   ]
  },
  {
   "cell_type": "markdown",
   "metadata": {},
   "source": [
    "## Add new book to database"
   ]
  },
  {
   "cell_type": "markdown",
   "metadata": {},
   "source": [
    "We load the new book from the file `newbook.xlsx`:"
   ]
  },
  {
   "cell_type": "code",
   "execution_count": 4,
   "metadata": {},
   "outputs": [
    {
     "data": {
      "text/html": [
       "<div><style>\n",
       ".dataframe > thead > tr,\n",
       ".dataframe > tbody > tr {\n",
       "  text-align: right;\n",
       "  white-space: pre-wrap;\n",
       "}\n",
       "</style>\n",
       "<small>shape: (1, 13)</small><table border=\"1\" class=\"dataframe\"><thead><tr><th>isbn</th><th>author</th><th>title</th><th>year</th><th>publisher</th><th>full_price</th><th>adelphi</th><th>buecher</th><th>feltrinelli</th><th>ibs</th><th>libraccio</th><th>mondadori</th><th>osiander</th></tr><tr><td>str</td><td>str</td><td>str</td><td>str</td><td>str</td><td>f64</td><td>str</td><td>str</td><td>str</td><td>str</td><td>str</td><td>str</td><td>str</td></tr></thead><tbody><tr><td>&quot;9781857988826&quot;</td><td>&quot;Ursula K. Le Guin&quot;</td><td>&quot;The Dispossessed&quot;</td><td>&quot;1999&quot;</td><td>&quot;Orion Publishing Co&quot;</td><td>13.0</td><td>null</td><td>&quot;https://www.buecher.de/artikel…</td><td>&quot;https://www.lafeltrinelli.it/d…</td><td>&quot;https://www.ibs.it/dispossesse…</td><td>null</td><td>null</td><td>&quot;https://www.osiander.de/shop/h…</td></tr></tbody></table></div>"
      ],
      "text/plain": [
       "shape: (1, 13)\n",
       "┌────────────┬────────────┬────────────┬──────┬───┬────────────┬───────────┬───────────┬───────────┐\n",
       "│ isbn       ┆ author     ┆ title      ┆ year ┆ … ┆ ibs        ┆ libraccio ┆ mondadori ┆ osiander  │\n",
       "│ ---        ┆ ---        ┆ ---        ┆ ---  ┆   ┆ ---        ┆ ---       ┆ ---       ┆ ---       │\n",
       "│ str        ┆ str        ┆ str        ┆ str  ┆   ┆ str        ┆ str       ┆ str       ┆ str       │\n",
       "╞════════════╪════════════╪════════════╪══════╪═══╪════════════╪═══════════╪═══════════╪═══════════╡\n",
       "│ 9781857988 ┆ Ursula K.  ┆ The Dispos ┆ 1999 ┆ … ┆ https://ww ┆ null      ┆ null      ┆ https://w │\n",
       "│ 826        ┆ Le Guin    ┆ sessed     ┆      ┆   ┆ w.ibs.it/d ┆           ┆           ┆ ww.osiand │\n",
       "│            ┆            ┆            ┆      ┆   ┆ ispossesse ┆           ┆           ┆ er.de/sho │\n",
       "│            ┆            ┆            ┆      ┆   ┆ …          ┆           ┆           ┆ p/h…      │\n",
       "└────────────┴────────────┴────────────┴──────┴───┴────────────┴───────────┴───────────┴───────────┘"
      ]
     },
     "execution_count": 4,
     "metadata": {},
     "output_type": "execute_result"
    }
   ],
   "source": [
    "df_2 = mbp.read_excel('newbook.xlsx', schema=mbp.schema())\n",
    "df_2"
   ]
  },
  {
   "cell_type": "markdown",
   "metadata": {},
   "source": [
    "Then, we simply write it to the database specifying the attribute `'append'`:"
   ]
  },
  {
   "cell_type": "code",
   "execution_count": 5,
   "metadata": {},
   "outputs": [],
   "source": [
    "mbp.write_database(\n",
    "    df_2,\n",
    "    table_name='books',\n",
    "    url='sqlite:///database.db',\n",
    "    if_table_exists='append',\n",
    ")"
   ]
  },
  {
   "cell_type": "markdown",
   "metadata": {},
   "source": [
    "> Note: if we wanted to make sure to not add duplicates (with respect to the ISBN), we can specify a `modify_df_before_writing` function as an argument to `write_database`. For example, we can use `mbp.delete_known_books`, or the following function:\n",
    "> ```python\n",
    "> def modify_df(**kwargs):\n",
    ">     df_db = pl.read_database(\n",
    ">         query=f'SELECT * FROM {kwargs['table_name']}',\n",
    ">         connection=kwargs['engine'],\n",
    ">         )\n",
    ">     return df_2.join(\n",
    ">         df_db,\n",
    ">         on=\"isbn\",\n",
    ">         how=\"anti\"\n",
    ">     )\n",
    "> ```"
   ]
  },
  {
   "cell_type": "markdown",
   "metadata": {},
   "source": [
    "We check now what has been saved into the database:"
   ]
  },
  {
   "cell_type": "code",
   "execution_count": 6,
   "metadata": {},
   "outputs": [
    {
     "data": {
      "text/html": [
       "<div><style>\n",
       ".dataframe > thead > tr,\n",
       ".dataframe > tbody > tr {\n",
       "  text-align: right;\n",
       "  white-space: pre-wrap;\n",
       "}\n",
       "</style>\n",
       "<small>shape: (2, 13)</small><table border=\"1\" class=\"dataframe\"><thead><tr><th>isbn</th><th>author</th><th>title</th><th>year</th><th>publisher</th><th>full_price</th><th>adelphi</th><th>buecher</th><th>feltrinelli</th><th>ibs</th><th>libraccio</th><th>mondadori</th><th>osiander</th></tr><tr><td>str</td><td>str</td><td>str</td><td>str</td><td>str</td><td>f64</td><td>str</td><td>str</td><td>str</td><td>str</td><td>str</td><td>str</td><td>str</td></tr></thead><tbody><tr><td>&quot;9783866473256&quot;</td><td>&quot;Karl Marx&quot;</td><td>&quot;Das Kapital&quot;</td><td>&quot;2009&quot;</td><td>&quot;Anaconda&quot;</td><td>7.95</td><td>null</td><td>&quot;https://www.buecher.de/artikel…</td><td>null</td><td>null</td><td>null</td><td>null</td><td>&quot;https://www.osiander.de/shop/h…</td></tr><tr><td>&quot;9781857988826&quot;</td><td>&quot;Ursula K. Le Guin&quot;</td><td>&quot;The Dispossessed&quot;</td><td>&quot;1999&quot;</td><td>&quot;Orion Publishing Co&quot;</td><td>13.0</td><td>null</td><td>&quot;https://www.buecher.de/artikel…</td><td>&quot;https://www.lafeltrinelli.it/d…</td><td>&quot;https://www.ibs.it/dispossesse…</td><td>null</td><td>null</td><td>&quot;https://www.osiander.de/shop/h…</td></tr></tbody></table></div>"
      ],
      "text/plain": [
       "shape: (2, 13)\n",
       "┌────────────┬────────────┬────────────┬──────┬───┬────────────┬───────────┬───────────┬───────────┐\n",
       "│ isbn       ┆ author     ┆ title      ┆ year ┆ … ┆ ibs        ┆ libraccio ┆ mondadori ┆ osiander  │\n",
       "│ ---        ┆ ---        ┆ ---        ┆ ---  ┆   ┆ ---        ┆ ---       ┆ ---       ┆ ---       │\n",
       "│ str        ┆ str        ┆ str        ┆ str  ┆   ┆ str        ┆ str       ┆ str       ┆ str       │\n",
       "╞════════════╪════════════╪════════════╪══════╪═══╪════════════╪═══════════╪═══════════╪═══════════╡\n",
       "│ 9783866473 ┆ Karl Marx  ┆ Das        ┆ 2009 ┆ … ┆ null       ┆ null      ┆ null      ┆ https://w │\n",
       "│ 256        ┆            ┆ Kapital    ┆      ┆   ┆            ┆           ┆           ┆ ww.osiand │\n",
       "│            ┆            ┆            ┆      ┆   ┆            ┆           ┆           ┆ er.de/sho │\n",
       "│            ┆            ┆            ┆      ┆   ┆            ┆           ┆           ┆ p/h…      │\n",
       "│ 9781857988 ┆ Ursula K.  ┆ The Dispos ┆ 1999 ┆ … ┆ https://ww ┆ null      ┆ null      ┆ https://w │\n",
       "│ 826        ┆ Le Guin    ┆ sessed     ┆      ┆   ┆ w.ibs.it/d ┆           ┆           ┆ ww.osiand │\n",
       "│            ┆            ┆            ┆      ┆   ┆ ispossesse ┆           ┆           ┆ er.de/sho │\n",
       "│            ┆            ┆            ┆      ┆   ┆ …          ┆           ┆           ┆ p/h…      │\n",
       "└────────────┴────────────┴────────────┴──────┴───┴────────────┴───────────┴───────────┴───────────┘"
      ]
     },
     "execution_count": 6,
     "metadata": {},
     "output_type": "execute_result"
    }
   ],
   "source": [
    "df_test = mbp.read_database(\n",
    "    table_name='books',\n",
    "    url='sqlite:///database.db',\n",
    "    schema_overrides=mbp.schema(),\n",
    ")\n",
    "df_test"
   ]
  }
 ],
 "metadata": {
  "kernelspec": {
   "display_name": "monitor",
   "language": "python",
   "name": "python3"
  },
  "language_info": {
   "codemirror_mode": {
    "name": "ipython",
    "version": 3
   },
   "file_extension": ".py",
   "mimetype": "text/x-python",
   "name": "python",
   "nbconvert_exporter": "python",
   "pygments_lexer": "ipython3",
   "version": "3.12.5"
  }
 },
 "nbformat": 4,
 "nbformat_minor": 2
}

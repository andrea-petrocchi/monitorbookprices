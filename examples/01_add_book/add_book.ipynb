{
 "cells": [
  {
   "cell_type": "markdown",
   "metadata": {},
   "source": [
    "# add_book.ipynb\n",
    "This notebook guides in the action of adding books to your database.\n",
    "\n",
    "The notebook is divided in two parts:\n",
    "1. In the first part we create a minimal database with a single book. We save it as `database.db` in the current folder.\n",
    "2. In the second part we load the database `database.db` and we add the book contained in the file `newbook.xlsx` (created using `mbp.create_excel_template`)."
   ]
  },
  {
   "cell_type": "code",
   "execution_count": 1,
   "metadata": {},
   "outputs": [],
   "source": [
    "import polars as pl\n",
    "\n",
    "import monitorbookprices as mbp"
   ]
  },
  {
   "cell_type": "markdown",
   "metadata": {},
   "source": [
    "## Create minimal database"
   ]
  },
  {
   "cell_type": "code",
   "execution_count": null,
   "metadata": {},
   "outputs": [],
   "source": [
    "book = mbp.new_book(\n",
    "    {\n",
    "        'isbn': '9783866473256',\n",
    "        'author': 'Karl Marx',\n",
    "        'title': 'Das Kapital',\n",
    "        'year': '2009',\n",
    "        'publisher': 'Anaconda',\n",
    "        'full_price': 7.95,\n",
    "        'buecher': 'https://www.buecher.de/artikel/buch/das-kapital/25646129/',\n",
    "        'osiander': 'https://www.osiander.de/shop/home/artikeldetails/A1006759980',\n",
    "    }\n",
    ")\n",
    "df = pl.DataFrame(book, schema_overrides=mbp.schema())\n",
    "df"
   ]
  },
  {
   "cell_type": "code",
   "execution_count": 3,
   "metadata": {},
   "outputs": [],
   "source": [
    "mbp.write_database(\n",
    "    df,  # dataframe\n",
    "    'books',  # table name\n",
    "    url='sqlite:///database.db',  # database url\n",
    "    if_table_exists='replace',  # behavior if table already exists\n",
    ")"
   ]
  },
  {
   "cell_type": "markdown",
   "metadata": {},
   "source": [
    "## Add new book to database"
   ]
  },
  {
   "cell_type": "markdown",
   "metadata": {},
   "source": [
    "We load the new book from the file `newbook.xlsx`:"
   ]
  },
  {
   "cell_type": "code",
   "execution_count": null,
   "metadata": {},
   "outputs": [],
   "source": [
    "df_2 = mbp.read_excel('newbook.xlsx', schema=mbp.schema())\n",
    "df_2"
   ]
  },
  {
   "cell_type": "markdown",
   "metadata": {},
   "source": [
    "Then, we simply write it to the database specifying the attribute `'append'`:"
   ]
  },
  {
   "cell_type": "code",
   "execution_count": 5,
   "metadata": {},
   "outputs": [],
   "source": [
    "mbp.write_database(\n",
    "    df_2,\n",
    "    table_name='books',\n",
    "    url='sqlite:///database.db',\n",
    "    if_table_exists='append',\n",
    ")"
   ]
  },
  {
   "cell_type": "markdown",
   "metadata": {},
   "source": [
    "We check now what has been saved into the database:"
   ]
  },
  {
   "cell_type": "code",
   "execution_count": null,
   "metadata": {},
   "outputs": [],
   "source": [
    "df_test = mbp.read_database(\n",
    "    table_name='books',\n",
    "    url='sqlite:///database.db',\n",
    "    schema_overrides=mbp.schema(),\n",
    ")\n",
    "df_test"
   ]
  }
 ],
 "metadata": {
  "kernelspec": {
   "display_name": "monitor",
   "language": "python",
   "name": "python3"
  },
  "language_info": {
   "codemirror_mode": {
    "name": "ipython",
    "version": 3
   },
   "file_extension": ".py",
   "mimetype": "text/x-python",
   "name": "python",
   "nbconvert_exporter": "python",
   "pygments_lexer": "ipython3",
   "version": "3.12.5"
  }
 },
 "nbformat": 4,
 "nbformat_minor": 2
}

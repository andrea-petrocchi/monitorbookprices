{
 "cells": [
  {
   "cell_type": "markdown",
   "metadata": {},
   "source": [
    "# update_prices.ipynb\n",
    "This notebook guides through the action of updating the prices of a database, i.e. adding records in the `price` table with the prices registered on the current day.\n",
    "\n",
    "The notebook is divided in two parts:\n",
    "1. In the first part we create a minimal database with a single book. We save it as `database.db` in the current folder.\n",
    "2. In the second part we load the database `database.db` and we read it as a `polars.DataFrame`. We then read all the rows of the database and scrape the prices for any link we find. The prices are then added to the table `prices` in the database with the current date."
   ]
  },
  {
   "cell_type": "code",
   "execution_count": 1,
   "metadata": {},
   "outputs": [],
   "source": [
    "from datetime import datetime\n",
    "\n",
    "import monitorbookprices as mbp"
   ]
  },
  {
   "cell_type": "markdown",
   "metadata": {},
   "source": [
    "We load the database `database.db` in the current folder, which is read as a `polars.DataFrame` with a specific schema (specified by `mbp.schema()`)"
   ]
  },
  {
   "cell_type": "code",
   "execution_count": 2,
   "metadata": {},
   "outputs": [
    {
     "data": {
      "text/html": [
       "<div><style>\n",
       ".dataframe > thead > tr,\n",
       ".dataframe > tbody > tr {\n",
       "  text-align: right;\n",
       "  white-space: pre-wrap;\n",
       "}\n",
       "</style>\n",
       "<small>shape: (2, 13)</small><table border=\"1\" class=\"dataframe\"><thead><tr><th>isbn</th><th>author</th><th>title</th><th>year</th><th>publisher</th><th>full_price</th><th>adelphi</th><th>buecher</th><th>feltrinelli</th><th>ibs</th><th>libraccio</th><th>mondadori</th><th>osiander</th></tr><tr><td>str</td><td>str</td><td>str</td><td>str</td><td>str</td><td>f64</td><td>str</td><td>str</td><td>str</td><td>str</td><td>str</td><td>str</td><td>str</td></tr></thead><tbody><tr><td>&quot;9783866473256&quot;</td><td>&quot;Karl Marx&quot;</td><td>&quot;Das Kapital&quot;</td><td>&quot;2009&quot;</td><td>&quot;Anaconda&quot;</td><td>7.95</td><td>null</td><td>&quot;https://www.buecher.de/artikel…</td><td>null</td><td>null</td><td>null</td><td>null</td><td>&quot;https://www.osiander.de/shop/h…</td></tr><tr><td>&quot;9781857988826&quot;</td><td>&quot;Ursula K. Le Guin&quot;</td><td>&quot;The Dispossessed&quot;</td><td>&quot;1999&quot;</td><td>&quot;Orion Publishing Co&quot;</td><td>13.0</td><td>null</td><td>&quot;https://www.buecher.de/artikel…</td><td>&quot;https://www.lafeltrinelli.it/d…</td><td>&quot;https://www.ibs.it/dispossesse…</td><td>null</td><td>null</td><td>&quot;https://www.osiander.de/shop/h…</td></tr></tbody></table></div>"
      ],
      "text/plain": [
       "shape: (2, 13)\n",
       "┌────────────┬────────────┬────────────┬──────┬───┬────────────┬───────────┬───────────┬───────────┐\n",
       "│ isbn       ┆ author     ┆ title      ┆ year ┆ … ┆ ibs        ┆ libraccio ┆ mondadori ┆ osiander  │\n",
       "│ ---        ┆ ---        ┆ ---        ┆ ---  ┆   ┆ ---        ┆ ---       ┆ ---       ┆ ---       │\n",
       "│ str        ┆ str        ┆ str        ┆ str  ┆   ┆ str        ┆ str       ┆ str       ┆ str       │\n",
       "╞════════════╪════════════╪════════════╪══════╪═══╪════════════╪═══════════╪═══════════╪═══════════╡\n",
       "│ 9783866473 ┆ Karl Marx  ┆ Das        ┆ 2009 ┆ … ┆ null       ┆ null      ┆ null      ┆ https://w │\n",
       "│ 256        ┆            ┆ Kapital    ┆      ┆   ┆            ┆           ┆           ┆ ww.osiand │\n",
       "│            ┆            ┆            ┆      ┆   ┆            ┆           ┆           ┆ er.de/sho │\n",
       "│            ┆            ┆            ┆      ┆   ┆            ┆           ┆           ┆ p/h…      │\n",
       "│ 9781857988 ┆ Ursula K.  ┆ The Dispos ┆ 1999 ┆ … ┆ https://ww ┆ null      ┆ null      ┆ https://w │\n",
       "│ 826        ┆ Le Guin    ┆ sessed     ┆      ┆   ┆ w.ibs.it/d ┆           ┆           ┆ ww.osiand │\n",
       "│            ┆            ┆            ┆      ┆   ┆ ispossesse ┆           ┆           ┆ er.de/sho │\n",
       "│            ┆            ┆            ┆      ┆   ┆ …          ┆           ┆           ┆ p/h…      │\n",
       "└────────────┴────────────┴────────────┴──────┴───┴────────────┴───────────┴───────────┴───────────┘"
      ]
     },
     "execution_count": 2,
     "metadata": {},
     "output_type": "execute_result"
    }
   ],
   "source": [
    "books = mbp.read_database(\n",
    "    'books',  # table name\n",
    "    url='sqlite:///database.db',\n",
    "    schema_overrides=mbp.schema(),\n",
    ")\n",
    "books"
   ]
  },
  {
   "cell_type": "markdown",
   "metadata": {},
   "source": [
    "As a first step, we define empty lists, we store today's date, and the book's isbn."
   ]
  },
  {
   "cell_type": "code",
   "execution_count": 3,
   "metadata": {},
   "outputs": [],
   "source": [
    "list_isbns = []\n",
    "list_sites = []\n",
    "list_prices = []\n",
    "list_dates = []\n",
    "date = datetime.today().date()"
   ]
  },
  {
   "cell_type": "markdown",
   "metadata": {},
   "source": [
    "Notice that we need to keep in mind that for each book we do not have links for all webistes, for example we only have the following websites for the first book:"
   ]
  },
  {
   "cell_type": "code",
   "execution_count": 4,
   "metadata": {},
   "outputs": [
    {
     "data": {
      "text/plain": [
       "['buecher', 'osiander']"
      ]
     },
     "execution_count": 4,
     "metadata": {},
     "output_type": "execute_result"
    }
   ],
   "source": [
    "[s.name for s in books[0][mbp.list_sites()] if not s.null_count()]"
   ]
  },
  {
   "cell_type": "markdown",
   "metadata": {},
   "source": [
    "Then, the following function extracts the following lists:\n",
    "| `list_isbn` |    `list_sites`     |\n",
    "|-------------|---------------------|\n",
    "|    isbn_1   |  link_1 for book_1  |\n",
    "|    isbn_1   |  link_2 for book_1  |\n",
    "|    isbn_1   |  link_3 for book_1  |\n",
    "|    isbn_2   |  link_1 for book_2  |\n",
    "|    isbn_2   |  link_2 for book_2  |\n",
    "\n",
    "etc."
   ]
  },
  {
   "cell_type": "code",
   "execution_count": 5,
   "metadata": {},
   "outputs": [],
   "source": [
    "# list_isbn, list_site = mbp.prepare_scrape(books)\n",
    "# list_isbn, list_site"
   ]
  },
  {
   "cell_type": "code",
   "execution_count": 6,
   "metadata": {},
   "outputs": [],
   "source": [
    "###----------------- ITERATIVE -------------------\n",
    "# %%time\n",
    "# if row.shape[0] > 0:\n",
    "#     for p in row:\n",
    "#         list_isbns.append(isbn)\n",
    "#         list_sites.append(p.name)\n",
    "#         list_prices.append(mbp.scrape_price(p[0]))\n",
    "#         list_dates.append(date)"
   ]
  },
  {
   "cell_type": "code",
   "execution_count": 7,
   "metadata": {},
   "outputs": [],
   "source": [
    "# %%time\n",
    "# ###----------------------- PARALLEL -----------------\n",
    "# from concurrent.futures import ThreadPoolExecutor\n",
    "\n",
    "# # def run(func, lista):\n",
    "# #     with ThreadPoolExecutor(max_workers=6) as executor:\n",
    "# #         results = list(tqdm(executor.map(func, lista), total=len(lista)))\n",
    "# #     return results\n",
    "\n",
    "# # list_prices = run(mbp.scrape_price, [p[0] for p in row])\n",
    "\n",
    "# with ThreadPoolExecutor(max_workers=6) as executor:\n",
    "#     list_price = list(\n",
    "#         tqdm(\n",
    "#             executor.map(\n",
    "#                 mbp.scrape_price,\n",
    "#                 list_site\n",
    "#             ),\n",
    "#         total=len(list_site)\n",
    "#         )\n",
    "#     )\n",
    "\n",
    "# list_dates = [date]*len(list_prices)"
   ]
  },
  {
   "cell_type": "code",
   "execution_count": 8,
   "metadata": {},
   "outputs": [],
   "source": [
    "# pl.DataFrame(\n",
    "#     {\n",
    "#         'isbn': list_isbns,\n",
    "#         'site': list_sites,\n",
    "#         'price': list_prices,\n",
    "#         'date': list_dates,\n",
    "#     }\n",
    "# )"
   ]
  },
  {
   "cell_type": "code",
   "execution_count": 9,
   "metadata": {},
   "outputs": [
    {
     "name": "stderr",
     "output_type": "stream",
     "text": [
      "100%|██████████| 6/6 [00:24<00:00,  4.01s/it]\n"
     ]
    },
    {
     "data": {
      "text/html": [
       "<div><style>\n",
       ".dataframe > thead > tr,\n",
       ".dataframe > tbody > tr {\n",
       "  text-align: right;\n",
       "  white-space: pre-wrap;\n",
       "}\n",
       "</style>\n",
       "<small>shape: (6, 4)</small><table border=\"1\" class=\"dataframe\"><thead><tr><th>isbn</th><th>site</th><th>price</th><th>date</th></tr><tr><td>str</td><td>str</td><td>f64</td><td>date</td></tr></thead><tbody><tr><td>&quot;9783866473256&quot;</td><td>&quot;https://www.buecher.de/artikel…</td><td>7.95</td><td>2024-10-10</td></tr><tr><td>&quot;9783866473256&quot;</td><td>&quot;https://www.osiander.de/shop/h…</td><td>7.95</td><td>2024-10-10</td></tr><tr><td>&quot;9781857988826&quot;</td><td>&quot;https://www.buecher.de/artikel…</td><td>9.49</td><td>2024-10-10</td></tr><tr><td>&quot;9781857988826&quot;</td><td>&quot;https://www.lafeltrinelli.it/d…</td><td>12.49</td><td>2024-10-10</td></tr><tr><td>&quot;9781857988826&quot;</td><td>&quot;https://www.ibs.it/dispossesse…</td><td>11.87</td><td>2024-10-10</td></tr><tr><td>&quot;9781857988826&quot;</td><td>&quot;https://www.osiander.de/shop/h…</td><td>9.69</td><td>2024-10-10</td></tr></tbody></table></div>"
      ],
      "text/plain": [
       "shape: (6, 4)\n",
       "┌───────────────┬─────────────────────────────────┬───────┬────────────┐\n",
       "│ isbn          ┆ site                            ┆ price ┆ date       │\n",
       "│ ---           ┆ ---                             ┆ ---   ┆ ---        │\n",
       "│ str           ┆ str                             ┆ f64   ┆ date       │\n",
       "╞═══════════════╪═════════════════════════════════╪═══════╪════════════╡\n",
       "│ 9783866473256 ┆ https://www.buecher.de/artikel… ┆ 7.95  ┆ 2024-10-10 │\n",
       "│ 9783866473256 ┆ https://www.osiander.de/shop/h… ┆ 7.95  ┆ 2024-10-10 │\n",
       "│ 9781857988826 ┆ https://www.buecher.de/artikel… ┆ 9.49  ┆ 2024-10-10 │\n",
       "│ 9781857988826 ┆ https://www.lafeltrinelli.it/d… ┆ 12.49 ┆ 2024-10-10 │\n",
       "│ 9781857988826 ┆ https://www.ibs.it/dispossesse… ┆ 11.87 ┆ 2024-10-10 │\n",
       "│ 9781857988826 ┆ https://www.osiander.de/shop/h… ┆ 9.69  ┆ 2024-10-10 │\n",
       "└───────────────┴─────────────────────────────────┴───────┴────────────┘"
      ]
     },
     "execution_count": 9,
     "metadata": {},
     "output_type": "execute_result"
    }
   ],
   "source": [
    "prices = mbp.scrape_database(books)\n",
    "prices"
   ]
  },
  {
   "cell_type": "markdown",
   "metadata": {},
   "source": [
    "After scraping the prices, we can add these records to the `prices` table in the database with\n",
    "```python\n",
    "mbp.write_database(\n",
    "    prices,\n",
    "    table_name='prices',\n",
    "    url='sqlite:///database.db',\n",
    "    if_table_exists='append'\n",
    ")\n",
    "```"
   ]
  }
 ],
 "metadata": {
  "kernelspec": {
   "display_name": "monitor",
   "language": "python",
   "name": "python3"
  },
  "language_info": {
   "codemirror_mode": {
    "name": "ipython",
    "version": 3
   },
   "file_extension": ".py",
   "mimetype": "text/x-python",
   "name": "python",
   "nbconvert_exporter": "python",
   "pygments_lexer": "ipython3",
   "version": "3.12.5"
  }
 },
 "nbformat": 4,
 "nbformat_minor": 2
}
